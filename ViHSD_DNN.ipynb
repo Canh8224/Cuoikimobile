{
  "cells": [
    {
      "cell_type": "code",
      "source": [
        "from google.colab import drive\n",
        "drive.mount('/content/drive')\n"
      ],
      "metadata": {
        "colab": {
          "base_uri": "https://localhost:8080/"
        },
        "id": "stSYkHQGmlIF",
        "outputId": "786617d8-a1b4-44d0-c884-731b82f555f2"
      },
      "execution_count": 2,
      "outputs": [
        {
          "output_type": "stream",
          "name": "stdout",
          "text": [
            "Drive already mounted at /content/drive; to attempt to forcibly remount, call drive.mount(\"/content/drive\", force_remount=True).\n"
          ]
        }
      ]
    },
    {
      "cell_type": "code",
      "source": [
        "%cd \"/content/drive/MyDrive/vihsd\""
      ],
      "metadata": {
        "colab": {
          "base_uri": "https://localhost:8080/"
        },
        "id": "Gc8ps_JNoA1d",
        "outputId": "cf404695-5a44-417e-c2e9-51c25846f137"
      },
      "execution_count": 8,
      "outputs": [
        {
          "output_type": "stream",
          "name": "stdout",
          "text": [
            "/content/drive/MyDrive/vihsd\n"
          ]
        }
      ]
    },
    {
      "cell_type": "markdown",
      "metadata": {
        "id": "M81n5YJfXhi3"
      },
      "source": [
        "# Library"
      ]
    },
    {
      "cell_type": "code",
      "execution_count": 11,
      "metadata": {
        "colab": {
          "base_uri": "https://localhost:8080/"
        },
        "id": "FRK31_QeOx9r",
        "outputId": "3adb4c92-323f-4f9d-d754-c32808da2ea4"
      },
      "outputs": [
        {
          "output_type": "stream",
          "name": "stdout",
          "text": [
            "Requirement already satisfied: pyvi in /usr/local/lib/python3.11/dist-packages (0.1.1)\n",
            "Requirement already satisfied: scikit-learn in /usr/local/lib/python3.11/dist-packages (from pyvi) (1.6.1)\n",
            "Requirement already satisfied: sklearn-crfsuite in /usr/local/lib/python3.11/dist-packages (from pyvi) (0.5.0)\n",
            "Requirement already satisfied: numpy>=1.19.5 in /usr/local/lib/python3.11/dist-packages (from scikit-learn->pyvi) (1.23.5)\n",
            "Requirement already satisfied: scipy>=1.6.0 in /usr/local/lib/python3.11/dist-packages (from scikit-learn->pyvi) (1.15.3)\n",
            "Requirement already satisfied: joblib>=1.2.0 in /usr/local/lib/python3.11/dist-packages (from scikit-learn->pyvi) (1.5.1)\n",
            "Requirement already satisfied: threadpoolctl>=3.1.0 in /usr/local/lib/python3.11/dist-packages (from scikit-learn->pyvi) (3.6.0)\n",
            "Requirement already satisfied: python-crfsuite>=0.9.7 in /usr/local/lib/python3.11/dist-packages (from sklearn-crfsuite->pyvi) (0.9.11)\n",
            "Requirement already satisfied: tabulate>=0.4.2 in /usr/local/lib/python3.11/dist-packages (from sklearn-crfsuite->pyvi) (0.9.0)\n",
            "Requirement already satisfied: tqdm>=2.0 in /usr/local/lib/python3.11/dist-packages (from sklearn-crfsuite->pyvi) (4.67.1)\n"
          ]
        }
      ],
      "source": [
        "pip install pyvi"
      ]
    },
    {
      "cell_type": "code",
      "source": [
        "!pip install tensorflow==2.12 keras==2.12"
      ],
      "metadata": {
        "colab": {
          "base_uri": "https://localhost:8080/"
        },
        "id": "5OQPfN5olJbo",
        "outputId": "3067458c-abcc-4654-a04b-6cce6f684f87"
      },
      "execution_count": 12,
      "outputs": [
        {
          "output_type": "stream",
          "name": "stdout",
          "text": [
            "Requirement already satisfied: tensorflow==2.12 in /usr/local/lib/python3.11/dist-packages (2.12.0)\n",
            "Requirement already satisfied: keras==2.12 in /usr/local/lib/python3.11/dist-packages (2.12.0)\n",
            "Requirement already satisfied: absl-py>=1.0.0 in /usr/local/lib/python3.11/dist-packages (from tensorflow==2.12) (1.4.0)\n",
            "Requirement already satisfied: astunparse>=1.6.0 in /usr/local/lib/python3.11/dist-packages (from tensorflow==2.12) (1.6.3)\n",
            "Requirement already satisfied: flatbuffers>=2.0 in /usr/local/lib/python3.11/dist-packages (from tensorflow==2.12) (25.2.10)\n",
            "Requirement already satisfied: gast<=0.4.0,>=0.2.1 in /usr/local/lib/python3.11/dist-packages (from tensorflow==2.12) (0.4.0)\n",
            "Requirement already satisfied: google-pasta>=0.1.1 in /usr/local/lib/python3.11/dist-packages (from tensorflow==2.12) (0.2.0)\n",
            "Requirement already satisfied: grpcio<2.0,>=1.24.3 in /usr/local/lib/python3.11/dist-packages (from tensorflow==2.12) (1.73.1)\n",
            "Requirement already satisfied: h5py>=2.9.0 in /usr/local/lib/python3.11/dist-packages (from tensorflow==2.12) (3.14.0)\n",
            "Requirement already satisfied: jax>=0.3.15 in /usr/local/lib/python3.11/dist-packages (from tensorflow==2.12) (0.4.30)\n",
            "Requirement already satisfied: libclang>=13.0.0 in /usr/local/lib/python3.11/dist-packages (from tensorflow==2.12) (18.1.1)\n",
            "Requirement already satisfied: numpy<1.24,>=1.22 in /usr/local/lib/python3.11/dist-packages (from tensorflow==2.12) (1.23.5)\n",
            "Requirement already satisfied: opt-einsum>=2.3.2 in /usr/local/lib/python3.11/dist-packages (from tensorflow==2.12) (3.4.0)\n",
            "Requirement already satisfied: packaging in /usr/local/lib/python3.11/dist-packages (from tensorflow==2.12) (25.0)\n",
            "Requirement already satisfied: protobuf!=4.21.0,!=4.21.1,!=4.21.2,!=4.21.3,!=4.21.4,!=4.21.5,<5.0.0dev,>=3.20.3 in /usr/local/lib/python3.11/dist-packages (from tensorflow==2.12) (4.25.8)\n",
            "Requirement already satisfied: setuptools in /usr/local/lib/python3.11/dist-packages (from tensorflow==2.12) (75.2.0)\n",
            "Requirement already satisfied: six>=1.12.0 in /usr/local/lib/python3.11/dist-packages (from tensorflow==2.12) (1.17.0)\n",
            "Requirement already satisfied: tensorboard<2.13,>=2.12 in /usr/local/lib/python3.11/dist-packages (from tensorflow==2.12) (2.12.3)\n",
            "Requirement already satisfied: tensorflow-estimator<2.13,>=2.12.0 in /usr/local/lib/python3.11/dist-packages (from tensorflow==2.12) (2.12.0)\n",
            "Requirement already satisfied: termcolor>=1.1.0 in /usr/local/lib/python3.11/dist-packages (from tensorflow==2.12) (3.1.0)\n",
            "Requirement already satisfied: typing-extensions>=3.6.6 in /usr/local/lib/python3.11/dist-packages (from tensorflow==2.12) (4.14.1)\n",
            "Requirement already satisfied: wrapt<1.15,>=1.11.0 in /usr/local/lib/python3.11/dist-packages (from tensorflow==2.12) (1.14.1)\n",
            "Requirement already satisfied: tensorflow-io-gcs-filesystem>=0.23.1 in /usr/local/lib/python3.11/dist-packages (from tensorflow==2.12) (0.37.1)\n",
            "Requirement already satisfied: wheel<1.0,>=0.23.0 in /usr/local/lib/python3.11/dist-packages (from astunparse>=1.6.0->tensorflow==2.12) (0.45.1)\n",
            "Requirement already satisfied: jaxlib<=0.4.30,>=0.4.27 in /usr/local/lib/python3.11/dist-packages (from jax>=0.3.15->tensorflow==2.12) (0.4.30)\n",
            "Requirement already satisfied: ml-dtypes>=0.2.0 in /usr/local/lib/python3.11/dist-packages (from jax>=0.3.15->tensorflow==2.12) (0.4.1)\n",
            "Requirement already satisfied: scipy>=1.9 in /usr/local/lib/python3.11/dist-packages (from jax>=0.3.15->tensorflow==2.12) (1.15.3)\n",
            "Requirement already satisfied: google-auth<3,>=1.6.3 in /usr/local/lib/python3.11/dist-packages (from tensorboard<2.13,>=2.12->tensorflow==2.12) (2.38.0)\n",
            "Requirement already satisfied: google-auth-oauthlib<1.1,>=0.5 in /usr/local/lib/python3.11/dist-packages (from tensorboard<2.13,>=2.12->tensorflow==2.12) (1.0.0)\n",
            "Requirement already satisfied: markdown>=2.6.8 in /usr/local/lib/python3.11/dist-packages (from tensorboard<2.13,>=2.12->tensorflow==2.12) (3.8.2)\n",
            "Requirement already satisfied: requests<3,>=2.21.0 in /usr/local/lib/python3.11/dist-packages (from tensorboard<2.13,>=2.12->tensorflow==2.12) (2.32.3)\n",
            "Requirement already satisfied: tensorboard-data-server<0.8.0,>=0.7.0 in /usr/local/lib/python3.11/dist-packages (from tensorboard<2.13,>=2.12->tensorflow==2.12) (0.7.2)\n",
            "Requirement already satisfied: werkzeug>=1.0.1 in /usr/local/lib/python3.11/dist-packages (from tensorboard<2.13,>=2.12->tensorflow==2.12) (3.1.3)\n",
            "Requirement already satisfied: cachetools<6.0,>=2.0.0 in /usr/local/lib/python3.11/dist-packages (from google-auth<3,>=1.6.3->tensorboard<2.13,>=2.12->tensorflow==2.12) (5.5.2)\n",
            "Requirement already satisfied: pyasn1-modules>=0.2.1 in /usr/local/lib/python3.11/dist-packages (from google-auth<3,>=1.6.3->tensorboard<2.13,>=2.12->tensorflow==2.12) (0.4.2)\n",
            "Requirement already satisfied: rsa<5,>=3.1.4 in /usr/local/lib/python3.11/dist-packages (from google-auth<3,>=1.6.3->tensorboard<2.13,>=2.12->tensorflow==2.12) (4.9.1)\n",
            "Requirement already satisfied: requests-oauthlib>=0.7.0 in /usr/local/lib/python3.11/dist-packages (from google-auth-oauthlib<1.1,>=0.5->tensorboard<2.13,>=2.12->tensorflow==2.12) (2.0.0)\n",
            "Requirement already satisfied: charset-normalizer<4,>=2 in /usr/local/lib/python3.11/dist-packages (from requests<3,>=2.21.0->tensorboard<2.13,>=2.12->tensorflow==2.12) (3.4.2)\n",
            "Requirement already satisfied: idna<4,>=2.5 in /usr/local/lib/python3.11/dist-packages (from requests<3,>=2.21.0->tensorboard<2.13,>=2.12->tensorflow==2.12) (3.10)\n",
            "Requirement already satisfied: urllib3<3,>=1.21.1 in /usr/local/lib/python3.11/dist-packages (from requests<3,>=2.21.0->tensorboard<2.13,>=2.12->tensorflow==2.12) (2.5.0)\n",
            "Requirement already satisfied: certifi>=2017.4.17 in /usr/local/lib/python3.11/dist-packages (from requests<3,>=2.21.0->tensorboard<2.13,>=2.12->tensorflow==2.12) (2025.7.14)\n",
            "Requirement already satisfied: MarkupSafe>=2.1.1 in /usr/local/lib/python3.11/dist-packages (from werkzeug>=1.0.1->tensorboard<2.13,>=2.12->tensorflow==2.12) (3.0.2)\n",
            "Requirement already satisfied: pyasn1<0.7.0,>=0.6.1 in /usr/local/lib/python3.11/dist-packages (from pyasn1-modules>=0.2.1->google-auth<3,>=1.6.3->tensorboard<2.13,>=2.12->tensorflow==2.12) (0.6.1)\n",
            "Requirement already satisfied: oauthlib>=3.0.0 in /usr/local/lib/python3.11/dist-packages (from requests-oauthlib>=0.7.0->google-auth-oauthlib<1.1,>=0.5->tensorboard<2.13,>=2.12->tensorflow==2.12) (3.3.1)\n"
          ]
        }
      ]
    },
    {
      "cell_type": "markdown",
      "metadata": {
        "id": "QJkUyD1q7x2b"
      },
      "source": [
        "# Data loader"
      ]
    },
    {
      "cell_type": "code",
      "source": [
        "!ls \"/content/drive/MyDrive/vihsd/data\"\n"
      ],
      "metadata": {
        "colab": {
          "base_uri": "https://localhost:8080/"
        },
        "id": "5NC-BtrFsNRJ",
        "outputId": "feb35fe9-a1d0-4703-dfc9-e7f935e242e1"
      },
      "execution_count": 16,
      "outputs": [
        {
          "output_type": "stream",
          "name": "stdout",
          "text": [
            "vihsd  vihsd.zip\n"
          ]
        }
      ]
    },
    {
      "cell_type": "code",
      "execution_count": 18,
      "metadata": {
        "colab": {
          "base_uri": "https://localhost:8080/"
        },
        "id": "UZlqfic28EXR",
        "outputId": "462ba690-dc82-4877-ca9b-9ea8e426b448"
      },
      "outputs": [
        {
          "output_type": "stream",
          "name": "stdout",
          "text": [
            "24048\n",
            "2672\n",
            "6680\n"
          ]
        }
      ],
      "source": [
        "import pandas as pd\n",
        "import numpy as np\n",
        "\n",
        "DATA = 'data/vihsd/vihsd/train.csv'\n",
        "DEV_DATA = 'data/vihsd/vihsd/dev.csv'\n",
        "TEST_DATA = 'data/vihsd/vihsd/test.csv'\n",
        "\n",
        "# read data\n",
        "train_data = pd.read_csv(DATA)\n",
        "dev_data = pd.read_csv(DEV_DATA)\n",
        "test_data = pd.read_csv(TEST_DATA)\n",
        "\n",
        "print(len(train_data))\n",
        "print(len(dev_data))\n",
        "print(len(test_data))\n",
        "\n",
        "X_train = train_data['free_text']\n",
        "y_train = train_data['label_id'].values\n",
        "\n",
        "X_dev = dev_data['free_text']\n",
        "y_dev = dev_data['label_id'].values\n",
        "\n",
        "X_test = test_data['free_text']\n",
        "y_test = test_data['label_id'].values"
      ]
    },
    {
      "cell_type": "code",
      "source": [
        "!wget https://raw.githubusercontent.com/stopwords/vietnamese-stopwords/master/vietnamese-stopwords-dash.txt -O /content/drive/MyDrive/vihsd/data/vietnamese-stopwords-dash.txt\n"
      ],
      "metadata": {
        "colab": {
          "base_uri": "https://localhost:8080/"
        },
        "id": "MYB2kKA6uhcX",
        "outputId": "285d5310-fe50-4774-a036-abd3afe979c3"
      },
      "execution_count": 21,
      "outputs": [
        {
          "output_type": "stream",
          "name": "stdout",
          "text": [
            "--2025-07-27 16:32:02--  https://raw.githubusercontent.com/stopwords/vietnamese-stopwords/master/vietnamese-stopwords-dash.txt\n",
            "Resolving raw.githubusercontent.com (raw.githubusercontent.com)... 185.199.108.133, 185.199.109.133, 185.199.110.133, ...\n",
            "Connecting to raw.githubusercontent.com (raw.githubusercontent.com)|185.199.108.133|:443... connected.\n",
            "HTTP request sent, awaiting response... 200 OK\n",
            "Length: 20475 (20K) [text/plain]\n",
            "Saving to: ‘/content/drive/MyDrive/vihsd/data/vietnamese-stopwords-dash.txt’\n",
            "\n",
            "/content/drive/MyDr 100%[===================>]  20.00K  --.-KB/s    in 0.002s  \n",
            "\n",
            "2025-07-27 16:32:03 (10.4 MB/s) - ‘/content/drive/MyDrive/vihsd/data/vietnamese-stopwords-dash.txt’ saved [20475/20475]\n",
            "\n"
          ]
        }
      ]
    },
    {
      "cell_type": "code",
      "execution_count": 23,
      "metadata": {
        "id": "OgTZiygq7xNq"
      },
      "outputs": [],
      "source": [
        "import pandas as pd\n",
        "import numpy as np\n",
        "\n",
        "from pyvi.ViTokenizer import ViTokenizer\n",
        "\n",
        "STOPWORDS = \"/content/drive/MyDrive/vihsd/data/vietnamese-stopwords-dash.txt\"\n",
        "with open(STOPWORDS, \"r\") as ins:\n",
        "    stopwords = []\n",
        "    for line in ins:\n",
        "        dd = line.strip('\\n')\n",
        "        stopwords.append(dd)\n",
        "    stopwords = set(stopwords)\n",
        "\n",
        "def filter_stop_words(train_sentences, stop_words):\n",
        "    new_sent = [word for word in train_sentences.split() if word not in stop_words]\n",
        "    train_sentences = ' '.join(new_sent)\n",
        "\n",
        "    return train_sentences\n",
        "\n",
        "def deEmojify(text):\n",
        "    regrex_pattern = re.compile(pattern = \"[\"\n",
        "        u\"\\U0001F600-\\U0001F64F\"  # emoticons\n",
        "        u\"\\U0001F300-\\U0001F5FF\"  # symbols & pictographs\n",
        "        u\"\\U0001F680-\\U0001F6FF\"  # transport & map symbols\n",
        "        u\"\\U0001F1E0-\\U0001F1FF\"  # flags (iOS)\n",
        "                           \"]+\", flags = re.UNICODE)\n",
        "    return regrex_pattern.sub(r'',text)\n",
        "\n",
        "def preprocess(text, tokenized = True, lowercased = True):\n",
        "    text = ViTokenizer.tokenize(text) if tokenized else text\n",
        "    text = filter_stop_words(text, stopwords)\n",
        "    text = deEmojify(text)\n",
        "    text = text.lower() if lowercased else text\n",
        "    return text\n",
        "\n",
        "# --------------TRICH XUAT DAC TRUNG -------------------------\n",
        "def pre_process_features(X, y, tokenized = True, lowercased = True):\n",
        "    X = [preprocess(str(p), tokenized = tokenized, lowercased = lowercased) for p in list(X)]\n",
        "    for idx, ele in enumerate(X):\n",
        "        if not ele:\n",
        "            np.delete(X, idx)\n",
        "            np.delete(y, idx)\n",
        "    return X, y"
      ]
    },
    {
      "cell_type": "markdown",
      "metadata": {
        "id": "oBlkTx2wd7Sj"
      },
      "source": [
        "# Run models"
      ]
    },
    {
      "cell_type": "markdown",
      "metadata": {
        "id": "V01ASmKuck6C"
      },
      "source": [
        "## Text CNN (Convolutional neural network for text classification)"
      ]
    },
    {
      "cell_type": "code",
      "execution_count": 31,
      "metadata": {
        "colab": {
          "base_uri": "https://localhost:8080/",
          "height": 1000
        },
        "id": "-4cBz1CgdPJy",
        "outputId": "fc757da6-8161-4b46-a628-4eb3bf4c78f4"
      },
      "outputs": [
        {
          "output_type": "stream",
          "name": "stdout",
          "text": [
            "Model: \"model\"\n",
            "__________________________________________________________________________________________________\n",
            " Layer (type)                   Output Shape         Param #     Connected to                     \n",
            "==================================================================================================\n",
            " input_1 (InputLayer)           [(None, 100)]        0           []                               \n",
            "                                                                                                  \n",
            " embedding (Embedding)          (None, 100, 300)     5897100     ['input_1[0][0]']                \n",
            "                                                                                                  \n",
            " reshape (Reshape)              (None, 100, 300, 1)  0           ['embedding[0][0]']              \n",
            "                                                                                                  \n",
            " conv2d (Conv2D)                (None, 99, 1, 32)    19232       ['reshape[0][0]']                \n",
            "                                                                                                  \n",
            " conv2d_1 (Conv2D)              (None, 98, 1, 32)    28832       ['reshape[0][0]']                \n",
            "                                                                                                  \n",
            " conv2d_2 (Conv2D)              (None, 96, 1, 32)    48032       ['reshape[0][0]']                \n",
            "                                                                                                  \n",
            " max_pooling2d (MaxPooling2D)   (None, 1, 1, 32)     0           ['conv2d[0][0]']                 \n",
            "                                                                                                  \n",
            " max_pooling2d_1 (MaxPooling2D)  (None, 1, 1, 32)    0           ['conv2d_1[0][0]']               \n",
            "                                                                                                  \n",
            " max_pooling2d_2 (MaxPooling2D)  (None, 1, 1, 32)    0           ['conv2d_2[0][0]']               \n",
            "                                                                                                  \n",
            " concatenate (Concatenate)      (None, 3, 1, 32)     0           ['max_pooling2d[0][0]',          \n",
            "                                                                  'max_pooling2d_1[0][0]',        \n",
            "                                                                  'max_pooling2d_2[0][0]']        \n",
            "                                                                                                  \n",
            " flatten (Flatten)              (None, 96)           0           ['concatenate[0][0]']            \n",
            "                                                                                                  \n",
            " dropout (Dropout)              (None, 96)           0           ['flatten[0][0]']                \n",
            "                                                                                                  \n",
            " dense (Dense)                  (None, 3)            291         ['dropout[0][0]']                \n",
            "                                                                                                  \n",
            "==================================================================================================\n",
            "Total params: 5,993,487\n",
            "Trainable params: 5,993,487\n",
            "Non-trainable params: 0\n",
            "__________________________________________________________________________________________________\n",
            "Epoch 1/40\n"
          ]
        },
        {
          "output_type": "stream",
          "name": "stderr",
          "text": [
            "/usr/local/lib/python3.11/dist-packages/keras/optimizers/legacy/adam.py:117: UserWarning: The `lr` argument is deprecated, use `learning_rate` instead.\n",
            "  super().__init__(name, **kwargs)\n"
          ]
        },
        {
          "output_type": "stream",
          "name": "stdout",
          "text": [
            "94/94 [==============================] - 103s 1s/step - loss: 0.8424 - accuracy: 0.7097 - val_loss: 0.6901 - val_accuracy: 0.8192\n",
            "Epoch 2/40\n",
            "94/94 [==============================] - 103s 1s/step - loss: 0.6246 - accuracy: 0.8269 - val_loss: 0.5810 - val_accuracy: 0.8196\n",
            "Epoch 3/40\n",
            "94/94 [==============================] - 101s 1s/step - loss: 0.5350 - accuracy: 0.8293 - val_loss: 0.5206 - val_accuracy: 0.8207\n",
            "Epoch 4/40\n",
            "94/94 [==============================] - 102s 1s/step - loss: 0.4853 - accuracy: 0.8367 - val_loss: 0.4882 - val_accuracy: 0.8301\n",
            "Epoch 5/40\n",
            "94/94 [==============================] - 103s 1s/step - loss: 0.4512 - accuracy: 0.8463 - val_loss: 0.4642 - val_accuracy: 0.8372\n",
            "Epoch 6/40\n",
            "94/94 [==============================] - 102s 1s/step - loss: 0.4236 - accuracy: 0.8528 - val_loss: 0.4457 - val_accuracy: 0.8409\n",
            "Epoch 7/40\n",
            "94/94 [==============================] - 101s 1s/step - loss: 0.3984 - accuracy: 0.8608 - val_loss: 0.4298 - val_accuracy: 0.8462\n",
            "Epoch 8/40\n",
            "94/94 [==============================] - 102s 1s/step - loss: 0.3777 - accuracy: 0.8650 - val_loss: 0.4177 - val_accuracy: 0.8507\n",
            "Epoch 9/40\n",
            "94/94 [==============================] - 100s 1s/step - loss: 0.3540 - accuracy: 0.8710 - val_loss: 0.4072 - val_accuracy: 0.8533\n",
            "Epoch 10/40\n",
            "94/94 [==============================] - 102s 1s/step - loss: 0.3374 - accuracy: 0.8778 - val_loss: 0.3993 - val_accuracy: 0.8559\n",
            "Epoch 11/40\n",
            "94/94 [==============================] - 103s 1s/step - loss: 0.3201 - accuracy: 0.8842 - val_loss: 0.3938 - val_accuracy: 0.8574\n",
            "Epoch 12/40\n",
            "94/94 [==============================] - 101s 1s/step - loss: 0.3025 - accuracy: 0.8899 - val_loss: 0.3881 - val_accuracy: 0.8593\n",
            "Epoch 13/40\n",
            "94/94 [==============================] - 102s 1s/step - loss: 0.2891 - accuracy: 0.8939 - val_loss: 0.3831 - val_accuracy: 0.8608\n",
            "Epoch 14/40\n",
            "94/94 [==============================] - 104s 1s/step - loss: 0.2735 - accuracy: 0.8998 - val_loss: 0.3797 - val_accuracy: 0.8630\n",
            "Epoch 15/40\n",
            "94/94 [==============================] - 101s 1s/step - loss: 0.2589 - accuracy: 0.9049 - val_loss: 0.3779 - val_accuracy: 0.8626\n",
            "Epoch 16/40\n",
            "94/94 [==============================] - 107s 1s/step - loss: 0.2459 - accuracy: 0.9095 - val_loss: 0.3760 - val_accuracy: 0.8656\n",
            "Epoch 17/40\n",
            "94/94 [==============================] - 106s 1s/step - loss: 0.2343 - accuracy: 0.9145 - val_loss: 0.3751 - val_accuracy: 0.8645\n",
            "Epoch 18/40\n",
            "94/94 [==============================] - 107s 1s/step - loss: 0.2227 - accuracy: 0.9183 - val_loss: 0.3766 - val_accuracy: 0.8656\n",
            "Epoch 19/40\n",
            "94/94 [==============================] - 104s 1s/step - loss: 0.2107 - accuracy: 0.9235 - val_loss: 0.3753 - val_accuracy: 0.8675\n",
            "Epoch 20/40\n",
            "94/94 [==============================] - 104s 1s/step - loss: 0.1990 - accuracy: 0.9291 - val_loss: 0.3762 - val_accuracy: 0.8690\n",
            "Epoch 21/40\n",
            "94/94 [==============================] - 101s 1s/step - loss: 0.1897 - accuracy: 0.9320 - val_loss: 0.3776 - val_accuracy: 0.8690\n",
            "Epoch 22/40\n",
            "94/94 [==============================] - 101s 1s/step - loss: 0.1811 - accuracy: 0.9359 - val_loss: 0.3790 - val_accuracy: 0.8701\n",
            "Epoch 23/40\n",
            "94/94 [==============================] - 103s 1s/step - loss: 0.1729 - accuracy: 0.9385 - val_loss: 0.3797 - val_accuracy: 0.8716\n",
            "Epoch 24/40\n",
            "94/94 [==============================] - 101s 1s/step - loss: 0.1627 - accuracy: 0.9436 - val_loss: 0.3820 - val_accuracy: 0.8720\n",
            "Epoch 25/40\n",
            "94/94 [==============================] - 101s 1s/step - loss: 0.1548 - accuracy: 0.9472 - val_loss: 0.3865 - val_accuracy: 0.8728\n",
            "Epoch 26/40\n",
            "94/94 [==============================] - 104s 1s/step - loss: 0.1494 - accuracy: 0.9497 - val_loss: 0.3894 - val_accuracy: 0.8757\n",
            "Epoch 27/40\n",
            "94/94 [==============================] - 106s 1s/step - loss: 0.1403 - accuracy: 0.9540 - val_loss: 0.3941 - val_accuracy: 0.8757\n",
            "Epoch 28/40\n",
            "94/94 [==============================] - 106s 1s/step - loss: 0.1336 - accuracy: 0.9562 - val_loss: 0.3957 - val_accuracy: 0.8757\n",
            "Epoch 29/40\n",
            "94/94 [==============================] - 104s 1s/step - loss: 0.1266 - accuracy: 0.9594 - val_loss: 0.3983 - val_accuracy: 0.8739\n",
            "Epoch 30/40\n",
            "94/94 [==============================] - 104s 1s/step - loss: 0.1226 - accuracy: 0.9610 - val_loss: 0.4006 - val_accuracy: 0.8739\n",
            "Epoch 31/40\n",
            "94/94 [==============================] - 103s 1s/step - loss: 0.1149 - accuracy: 0.9650 - val_loss: 0.4076 - val_accuracy: 0.8743\n",
            "Epoch 32/40\n",
            "94/94 [==============================] - 104s 1s/step - loss: 0.1112 - accuracy: 0.9654 - val_loss: 0.4104 - val_accuracy: 0.8724\n",
            "Epoch 33/40\n",
            "94/94 [==============================] - 103s 1s/step - loss: 0.1048 - accuracy: 0.9685 - val_loss: 0.4162 - val_accuracy: 0.8720\n",
            "Epoch 34/40\n",
            "94/94 [==============================] - 105s 1s/step - loss: 0.1006 - accuracy: 0.9694 - val_loss: 0.4211 - val_accuracy: 0.8716\n",
            "Epoch 35/40\n",
            "94/94 [==============================] - 103s 1s/step - loss: 0.0970 - accuracy: 0.9711 - val_loss: 0.4243 - val_accuracy: 0.8720\n",
            "Epoch 36/40\n",
            "94/94 [==============================] - 104s 1s/step - loss: 0.0927 - accuracy: 0.9727 - val_loss: 0.4298 - val_accuracy: 0.8713\n",
            "Epoch 37/40\n",
            "94/94 [==============================] - 103s 1s/step - loss: 0.0881 - accuracy: 0.9742 - val_loss: 0.4376 - val_accuracy: 0.8709\n",
            "Epoch 38/40\n",
            "94/94 [==============================] - 103s 1s/step - loss: 0.0829 - accuracy: 0.9756 - val_loss: 0.4435 - val_accuracy: 0.8709\n",
            "Epoch 39/40\n",
            "94/94 [==============================] - 104s 1s/step - loss: 0.0804 - accuracy: 0.9767 - val_loss: 0.4477 - val_accuracy: 0.8686\n",
            "Epoch 40/40\n",
            "94/94 [==============================] - 103s 1s/step - loss: 0.0777 - accuracy: 0.9774 - val_loss: 0.4572 - val_accuracy: 0.8705\n",
            "[[5325   81  142]\n",
            " [ 233  132   79]\n",
            " [ 299   48  341]]\n",
            "F1 - micro: 0.8679640718562874\n",
            "F1 - macro: 0.617956349865214\n",
            "Accuracy: 0.8679640718562874\n"
          ]
        },
        {
          "output_type": "execute_result",
          "data": {
            "text/plain": [
              "<Axes: >"
            ]
          },
          "metadata": {},
          "execution_count": 31
        },
        {
          "output_type": "display_data",
          "data": {
            "text/plain": [
              "<Figure size 640x480 with 2 Axes>"
            ],
            "image/png": "[encoded data removed]"
          },
          "metadata": {}
        }
      ],
      "source": [
        "# Text CNN\n",
        "import pandas as pd\n",
        "import numpy as np\n",
        "import re\n",
        "import pickle\n",
        "\n",
        "import seaborn as sn\n",
        "import pandas as pd\n",
        "import matplotlib.pyplot as plt\n",
        "\n",
        "from keras.layers import Input, Dense, Embedding, Conv2D, MaxPool2D\n",
        "from keras.layers import Reshape, Flatten, Dropout, Concatenate\n",
        "from keras.callbacks import ModelCheckpoint\n",
        "from keras.optimizers import Adam\n",
        "from keras.models import Model\n",
        "from keras.utils import to_categorical\n",
        "from tensorflow.keras.preprocessing import sequence\n",
        "\n",
        "from sklearn.metrics import f1_score, confusion_matrix, accuracy_score\n",
        "from sklearn.model_selection import train_test_split, StratifiedShuffleSplit\n",
        "\n",
        "train_X, train_y = pre_process_features(X_train, y_train, tokenized=True, lowercased = True)\n",
        "dev_X, dev_y = pre_process_features(X_dev, y_dev, tokenized=True, lowercased = True)\n",
        "test_X, test_y = pre_process_features(X_test, y_test, tokenized=True, lowercased = True)\n",
        "\n",
        "EMBEDDING_FILE = '/content/drive/MyDrive/vihsd/cc.vi.300.vec'\n",
        "MODEL_FILE = '/content/drive/MyDrive/vihsd/model/Text_CNN_model_v13.h5'\n",
        "\n",
        "def make_featues(X, y, tokenizer, is_one_hot_label=True):\n",
        "    X = tokenizer.texts_to_sequences(X)\n",
        "    X = sequence.pad_sequences(X, maxlen=sequence_length)\n",
        "    if is_one_hot_label:\n",
        "        y = to_categorical(y, num_classes=3)\n",
        "\n",
        "    return X, y\n",
        "\n",
        "vocabulary_size = 10000\n",
        "sequence_length = 100\n",
        "\n",
        "embedding_dim = 300\n",
        "batch_size = 256\n",
        "epochs = 40\n",
        "drop = 0.5\n",
        "\n",
        "filter_sizes = [2,3,5]\n",
        "num_filters = 32\n",
        "\n",
        "# --------------LOAD WORD EMBEDDING -------------------------\n",
        "embeddings_index = {}\n",
        "with open(EMBEDDING_FILE, encoding='utf8') as f:\n",
        "    for line in f:\n",
        "        values = line.rstrip().rsplit(' ')\n",
        "        word = values[0]\n",
        "        coefs = np.asarray(values[1:], dtype='float32')\n",
        "        embeddings_index[word] = coefs\n",
        "\n",
        "\n",
        "tokenizer = text.Tokenizer(lower=False, filters='!\"#$%&()*+,-./:;<=>?@[\\\\]^`{|}~\\t\\n')\n",
        "tokenizer.fit_on_texts(train_X)\n",
        "with open('/content/drive/MyDrive/vihsd/tokenizer/tokenizer.pickle'\n",
        ", 'wb') as handle:\n",
        "    pickle.dump(tokenizer, handle, protocol=pickle.HIGHEST_PROTOCOL)\n",
        "\n",
        "word_index = tokenizer.word_index\n",
        "# num_words = min(vocabulary_size, len(word_index) + 1)\n",
        "num_words = len(word_index) + 1\n",
        "embedding_matrix = np.zeros((num_words, embedding_dim))\n",
        "\n",
        "for word, i in word_index.items():\n",
        "    if i >= vocabulary_size:\n",
        "        continue\n",
        "\n",
        "    embedding_vector = embeddings_index.get(word)\n",
        "    if embedding_vector is not None:\n",
        "        embedding_matrix[i] = embedding_vector\n",
        "\n",
        "# Make features\n",
        "train_X, train_y = make_featues(train_X, train_y, tokenizer)\n",
        "dev_X, dev_y = make_featues(dev_X, dev_y, tokenizer)\n",
        "test_X, test_y = make_featues(test_X, test_y, tokenizer, is_one_hot_label=False)\n",
        "\n",
        "\n",
        "inputs = Input(shape=(sequence_length,), dtype='int32')\n",
        "embedding = Embedding(input_dim=num_words, output_dim=embedding_dim, input_length=sequence_length, weights=[embedding_matrix])(inputs)\n",
        "reshape = Reshape((sequence_length,embedding_dim,1))(embedding)\n",
        "\n",
        "conv_0 = Conv2D(num_filters, kernel_size=(filter_sizes[0], embedding_dim), padding='valid', kernel_initializer='normal', activation='elu')(reshape)\n",
        "conv_1 = Conv2D(num_filters, kernel_size=(filter_sizes[1], embedding_dim), padding='valid', kernel_initializer='normal', activation='elu')(reshape)\n",
        "conv_2 = Conv2D(num_filters, kernel_size=(filter_sizes[2], embedding_dim), padding='valid', kernel_initializer='normal', activation='elu')(reshape)\n",
        "\n",
        "maxpool_0 = MaxPool2D(pool_size=(sequence_length - filter_sizes[0] + 1, 1), strides=(1,1), padding='valid')(conv_0)\n",
        "maxpool_1 = MaxPool2D(pool_size=(sequence_length - filter_sizes[1] + 1, 1), strides=(1,1), padding='valid')(conv_1)\n",
        "maxpool_2 = MaxPool2D(pool_size=(sequence_length - filter_sizes[2] + 1, 1), strides=(1,1), padding='valid')(conv_2)\n",
        "\n",
        "concatenated_tensor = Concatenate(axis=1)([maxpool_0, maxpool_1, maxpool_2])\n",
        "flatten = Flatten()(concatenated_tensor)\n",
        "dropout = Dropout(drop)(flatten)\n",
        "output = Dense(units=3, activation='softmax')(dropout)\n",
        "\n",
        "# this creates a model that includes\n",
        "model = Model(inputs=inputs, outputs=output)\n",
        "\n",
        "model.summary()\n",
        "\n",
        "checkpoint = ModelCheckpoint('weights.{epoch:03d}-{val_acc:.4f}.hdf5', monitor='val_acc', verbose=1, save_best_only=True, mode='auto')\n",
        "adam = Adam(lr=1e-4, beta_1=0.9, beta_2=0.999, epsilon=1e-08, decay=0.0)\n",
        "\n",
        "model.compile(optimizer=adam, loss='categorical_crossentropy', metrics=['accuracy'])\n",
        "\n",
        "model.fit(train_X, train_y, batch_size=batch_size, epochs=epochs, verbose=1,\n",
        "          validation_data=(dev_X, dev_y))\n",
        "model.save(MODEL_FILE)\n",
        "\n",
        "prediction = model.predict(test_X, batch_size=batch_size, verbose=0)\n",
        "y_pred = prediction.argmax(axis=-1)\n",
        "\n",
        "cf1 = confusion_matrix(test_y, y_pred)\n",
        "print(cf1)\n",
        "\n",
        "evaluation = f1_score(test_y, y_pred, average='micro')\n",
        "\n",
        "print(\"F1 - micro: \" + str(evaluation))\n",
        "\n",
        "evaluation = f1_score(test_y, y_pred, average='macro')\n",
        "print(\"F1 - macro: \" + str(evaluation))\n",
        "\n",
        "evaluation = accuracy_score(test_y, y_pred)\n",
        "print(\"Accuracy: \" + str(evaluation))\n",
        "\n",
        "df_cm1 = pd.DataFrame(cf1, index = [\"clean\",\"offensive\",\"hate\"],\n",
        "                  columns = [\"clean\",\"offensive\",\"hate\"])\n",
        "plt.clf()\n",
        "sn.heatmap(df_cm1, annot=True, cmap=\"Greys\",fmt='g', cbar=True, annot_kws={\"size\": 30})"
      ]
    },
    {
      "cell_type": "markdown",
      "metadata": {
        "id": "oNNIX0KDcuJP"
      },
      "source": [
        "## GRU (Gated Recurrent Units)"
      ]
    },
    {
      "cell_type": "code",
      "source": [
        "!pip install pyvi\n"
      ],
      "metadata": {
        "id": "Or__svf4XrK3",
        "outputId": "26fcbcb9-17c7-443d-f55b-a922651d21b1",
        "colab": {
          "base_uri": "https://localhost:8080/"
        }
      },
      "execution_count": 2,
      "outputs": [
        {
          "output_type": "stream",
          "name": "stdout",
          "text": [
            "Collecting pyvi\n",
            "  Downloading pyvi-0.1.1-py2.py3-none-any.whl.metadata (2.5 kB)\n",
            "Requirement already satisfied: scikit-learn in /usr/local/lib/python3.11/dist-packages (from pyvi) (1.6.1)\n",
            "Collecting sklearn-crfsuite (from pyvi)\n",
            "  Downloading sklearn_crfsuite-0.5.0-py2.py3-none-any.whl.metadata (4.9 kB)\n",
            "Requirement already satisfied: numpy>=1.19.5 in /usr/local/lib/python3.11/dist-packages (from scikit-learn->pyvi) (2.0.2)\n",
            "Requirement already satisfied: scipy>=1.6.0 in /usr/local/lib/python3.11/dist-packages (from scikit-learn->pyvi) (1.16.0)\n",
            "Requirement already satisfied: joblib>=1.2.0 in /usr/local/lib/python3.11/dist-packages (from scikit-learn->pyvi) (1.5.1)\n",
            "Requirement already satisfied: threadpoolctl>=3.1.0 in /usr/local/lib/python3.11/dist-packages (from scikit-learn->pyvi) (3.6.0)\n",
            "Collecting python-crfsuite>=0.9.7 (from sklearn-crfsuite->pyvi)\n",
            "  Downloading python_crfsuite-0.9.11-cp311-cp311-manylinux_2_17_x86_64.manylinux2014_x86_64.whl.metadata (4.3 kB)\n",
            "Requirement already satisfied: tabulate>=0.4.2 in /usr/local/lib/python3.11/dist-packages (from sklearn-crfsuite->pyvi) (0.9.0)\n",
            "Requirement already satisfied: tqdm>=2.0 in /usr/local/lib/python3.11/dist-packages (from sklearn-crfsuite->pyvi) (4.67.1)\n",
            "Downloading pyvi-0.1.1-py2.py3-none-any.whl (8.5 MB)\n",
            "\u001b[2K   \u001b[90m━━━━━━━━━━━━━━━━━━━━━━━━━━━━━━━━━━━━━━━━\u001b[0m \u001b[32m8.5/8.5 MB\u001b[0m \u001b[31m70.3 MB/s\u001b[0m eta \u001b[36m0:00:00\u001b[0m\n",
            "\u001b[?25hDownloading sklearn_crfsuite-0.5.0-py2.py3-none-any.whl (10 kB)\n",
            "Downloading python_crfsuite-0.9.11-cp311-cp311-manylinux_2_17_x86_64.manylinux2014_x86_64.whl (1.3 MB)\n",
            "\u001b[2K   \u001b[90m━━━━━━━━━━━━━━━━━━━━━━━━━━━━━━━━━━━━━━━━\u001b[0m \u001b[32m1.3/1.3 MB\u001b[0m \u001b[31m75.5 MB/s\u001b[0m eta \u001b[36m0:00:00\u001b[0m\n",
            "\u001b[?25hInstalling collected packages: python-crfsuite, sklearn-crfsuite, pyvi\n",
            "Successfully installed python-crfsuite-0.9.11 pyvi-0.1.1 sklearn-crfsuite-0.5.0\n"
          ]
        }
      ]
    },
    {
      "cell_type": "code",
      "execution_count": 9,
      "metadata": {
        "colab": {
          "base_uri": "https://localhost:8080/",
          "height": 356
        },
        "id": "YaeEGAqxCYYL",
        "outputId": "2feb384b-a082-4a53-ea69-f804a41c4f97"
      },
      "outputs": [
        {
          "output_type": "error",
          "ename": "FileNotFoundError",
          "evalue": "[Errno 2] No such file or directory: '/content/drive/MyDrive/vihsd/data/train.csv'",
          "traceback": [
            "\u001b[0;31m---------------------------------------------------------------------------\u001b[0m",
            "\u001b[0;31mFileNotFoundError\u001b[0m                         Traceback (most recent call last)",
            "\u001b[0;32m/tmp/ipython-input-9-1609548838.py\u001b[0m in \u001b[0;36m<cell line: 0>\u001b[0;34m()\u001b[0m\n\u001b[1;32m     32\u001b[0m     \u001b[0;32mreturn\u001b[0m \u001b[0mprocessed_X\u001b[0m\u001b[0;34m,\u001b[0m \u001b[0my\u001b[0m\u001b[0;34m\u001b[0m\u001b[0;34m\u001b[0m\u001b[0m\n\u001b[1;32m     33\u001b[0m \u001b[0;34m\u001b[0m\u001b[0m\n\u001b[0;32m---> 34\u001b[0;31m \u001b[0mdf\u001b[0m \u001b[0;34m=\u001b[0m \u001b[0mpd\u001b[0m\u001b[0;34m.\u001b[0m\u001b[0mread_csv\u001b[0m\u001b[0;34m(\u001b[0m\u001b[0;34m'/content/drive/MyDrive/vihsd/data/train.csv'\u001b[0m\u001b[0;34m)\u001b[0m\u001b[0;34m\u001b[0m\u001b[0;34m\u001b[0m\u001b[0m\n\u001b[0m\u001b[1;32m     35\u001b[0m \u001b[0;34m\u001b[0m\u001b[0m\n\u001b[1;32m     36\u001b[0m \u001b[0;31m# Ví dụ cột 'text' là văn bản, cột 'label' là nhãn (0: clean, 1: offensive, 2: hate)\u001b[0m\u001b[0;34m\u001b[0m\u001b[0;34m\u001b[0m\u001b[0m\n",
            "\u001b[0;32m/usr/local/lib/python3.11/dist-packages/pandas/io/parsers/readers.py\u001b[0m in \u001b[0;36mread_csv\u001b[0;34m(filepath_or_buffer, sep, delimiter, header, names, index_col, usecols, dtype, engine, converters, true_values, false_values, skipinitialspace, skiprows, skipfooter, nrows, na_values, keep_default_na, na_filter, verbose, skip_blank_lines, parse_dates, infer_datetime_format, keep_date_col, date_parser, date_format, dayfirst, cache_dates, iterator, chunksize, compression, thousands, decimal, lineterminator, quotechar, quoting, doublequote, escapechar, comment, encoding, encoding_errors, dialect, on_bad_lines, delim_whitespace, low_memory, memory_map, float_precision, storage_options, dtype_backend)\u001b[0m\n\u001b[1;32m   1024\u001b[0m     \u001b[0mkwds\u001b[0m\u001b[0;34m.\u001b[0m\u001b[0mupdate\u001b[0m\u001b[0;34m(\u001b[0m\u001b[0mkwds_defaults\u001b[0m\u001b[0;34m)\u001b[0m\u001b[0;34m\u001b[0m\u001b[0;34m\u001b[0m\u001b[0m\n\u001b[1;32m   1025\u001b[0m \u001b[0;34m\u001b[0m\u001b[0m\n\u001b[0;32m-> 1026\u001b[0;31m     \u001b[0;32mreturn\u001b[0m \u001b[0m_read\u001b[0m\u001b[0;34m(\u001b[0m\u001b[0mfilepath_or_buffer\u001b[0m\u001b[0;34m,\u001b[0m \u001b[0mkwds\u001b[0m\u001b[0;34m)\u001b[0m\u001b[0;34m\u001b[0m\u001b[0;34m\u001b[0m\u001b[0m\n\u001b[0m\u001b[1;32m   1027\u001b[0m \u001b[0;34m\u001b[0m\u001b[0m\n\u001b[1;32m   1028\u001b[0m \u001b[0;34m\u001b[0m\u001b[0m\n",
            "\u001b[0;32m/usr/local/lib/python3.11/dist-packages/pandas/io/parsers/readers.py\u001b[0m in \u001b[0;36m_read\u001b[0;34m(filepath_or_buffer, kwds)\u001b[0m\n\u001b[1;32m    618\u001b[0m \u001b[0;34m\u001b[0m\u001b[0m\n\u001b[1;32m    619\u001b[0m     \u001b[0;31m# Create the parser.\u001b[0m\u001b[0;34m\u001b[0m\u001b[0;34m\u001b[0m\u001b[0m\n\u001b[0;32m--> 620\u001b[0;31m     \u001b[0mparser\u001b[0m \u001b[0;34m=\u001b[0m \u001b[0mTextFileReader\u001b[0m\u001b[0;34m(\u001b[0m\u001b[0mfilepath_or_buffer\u001b[0m\u001b[0;34m,\u001b[0m \u001b[0;34m**\u001b[0m\u001b[0mkwds\u001b[0m\u001b[0;34m)\u001b[0m\u001b[0;34m\u001b[0m\u001b[0;34m\u001b[0m\u001b[0m\n\u001b[0m\u001b[1;32m    621\u001b[0m \u001b[0;34m\u001b[0m\u001b[0m\n\u001b[1;32m    622\u001b[0m     \u001b[0;32mif\u001b[0m \u001b[0mchunksize\u001b[0m \u001b[0;32mor\u001b[0m \u001b[0miterator\u001b[0m\u001b[0;34m:\u001b[0m\u001b[0;34m\u001b[0m\u001b[0;34m\u001b[0m\u001b[0m\n",
            "\u001b[0;32m/usr/local/lib/python3.11/dist-packages/pandas/io/parsers/readers.py\u001b[0m in \u001b[0;36m__init__\u001b[0;34m(self, f, engine, **kwds)\u001b[0m\n\u001b[1;32m   1618\u001b[0m \u001b[0;34m\u001b[0m\u001b[0m\n\u001b[1;32m   1619\u001b[0m         \u001b[0mself\u001b[0m\u001b[0;34m.\u001b[0m\u001b[0mhandles\u001b[0m\u001b[0;34m:\u001b[0m \u001b[0mIOHandles\u001b[0m \u001b[0;34m|\u001b[0m \u001b[0;32mNone\u001b[0m \u001b[0;34m=\u001b[0m \u001b[0;32mNone\u001b[0m\u001b[0;34m\u001b[0m\u001b[0;34m\u001b[0m\u001b[0m\n\u001b[0;32m-> 1620\u001b[0;31m         \u001b[0mself\u001b[0m\u001b[0;34m.\u001b[0m\u001b[0m_engine\u001b[0m \u001b[0;34m=\u001b[0m \u001b[0mself\u001b[0m\u001b[0;34m.\u001b[0m\u001b[0m_make_engine\u001b[0m\u001b[0;34m(\u001b[0m\u001b[0mf\u001b[0m\u001b[0;34m,\u001b[0m \u001b[0mself\u001b[0m\u001b[0;34m.\u001b[0m\u001b[0mengine\u001b[0m\u001b[0;34m)\u001b[0m\u001b[0;34m\u001b[0m\u001b[0;34m\u001b[0m\u001b[0m\n\u001b[0m\u001b[1;32m   1621\u001b[0m \u001b[0;34m\u001b[0m\u001b[0m\n\u001b[1;32m   1622\u001b[0m     \u001b[0;32mdef\u001b[0m \u001b[0mclose\u001b[0m\u001b[0;34m(\u001b[0m\u001b[0mself\u001b[0m\u001b[0;34m)\u001b[0m \u001b[0;34m->\u001b[0m \u001b[0;32mNone\u001b[0m\u001b[0;34m:\u001b[0m\u001b[0;34m\u001b[0m\u001b[0;34m\u001b[0m\u001b[0m\n",
            "\u001b[0;32m/usr/local/lib/python3.11/dist-packages/pandas/io/parsers/readers.py\u001b[0m in \u001b[0;36m_make_engine\u001b[0;34m(self, f, engine)\u001b[0m\n\u001b[1;32m   1878\u001b[0m                 \u001b[0;32mif\u001b[0m \u001b[0;34m\"b\"\u001b[0m \u001b[0;32mnot\u001b[0m \u001b[0;32min\u001b[0m \u001b[0mmode\u001b[0m\u001b[0;34m:\u001b[0m\u001b[0;34m\u001b[0m\u001b[0;34m\u001b[0m\u001b[0m\n\u001b[1;32m   1879\u001b[0m                     \u001b[0mmode\u001b[0m \u001b[0;34m+=\u001b[0m \u001b[0;34m\"b\"\u001b[0m\u001b[0;34m\u001b[0m\u001b[0;34m\u001b[0m\u001b[0m\n\u001b[0;32m-> 1880\u001b[0;31m             self.handles = get_handle(\n\u001b[0m\u001b[1;32m   1881\u001b[0m                 \u001b[0mf\u001b[0m\u001b[0;34m,\u001b[0m\u001b[0;34m\u001b[0m\u001b[0;34m\u001b[0m\u001b[0m\n\u001b[1;32m   1882\u001b[0m                 \u001b[0mmode\u001b[0m\u001b[0;34m,\u001b[0m\u001b[0;34m\u001b[0m\u001b[0;34m\u001b[0m\u001b[0m\n",
            "\u001b[0;32m/usr/local/lib/python3.11/dist-packages/pandas/io/common.py\u001b[0m in \u001b[0;36mget_handle\u001b[0;34m(path_or_buf, mode, encoding, compression, memory_map, is_text, errors, storage_options)\u001b[0m\n\u001b[1;32m    871\u001b[0m         \u001b[0;32mif\u001b[0m \u001b[0mioargs\u001b[0m\u001b[0;34m.\u001b[0m\u001b[0mencoding\u001b[0m \u001b[0;32mand\u001b[0m \u001b[0;34m\"b\"\u001b[0m \u001b[0;32mnot\u001b[0m \u001b[0;32min\u001b[0m \u001b[0mioargs\u001b[0m\u001b[0;34m.\u001b[0m\u001b[0mmode\u001b[0m\u001b[0;34m:\u001b[0m\u001b[0;34m\u001b[0m\u001b[0;34m\u001b[0m\u001b[0m\n\u001b[1;32m    872\u001b[0m             \u001b[0;31m# Encoding\u001b[0m\u001b[0;34m\u001b[0m\u001b[0;34m\u001b[0m\u001b[0m\n\u001b[0;32m--> 873\u001b[0;31m             handle = open(\n\u001b[0m\u001b[1;32m    874\u001b[0m                 \u001b[0mhandle\u001b[0m\u001b[0;34m,\u001b[0m\u001b[0;34m\u001b[0m\u001b[0;34m\u001b[0m\u001b[0m\n\u001b[1;32m    875\u001b[0m                 \u001b[0mioargs\u001b[0m\u001b[0;34m.\u001b[0m\u001b[0mmode\u001b[0m\u001b[0;34m,\u001b[0m\u001b[0;34m\u001b[0m\u001b[0;34m\u001b[0m\u001b[0m\n",
            "\u001b[0;31mFileNotFoundError\u001b[0m: [Errno 2] No such file or directory: '/content/drive/MyDrive/vihsd/data/train.csv'"
          ]
        }
      ],
      "source": [
        "# GRU\n",
        "import pandas as pd\n",
        "import numpy as np\n",
        "import re\n",
        "import pickle\n",
        "\n",
        "import seaborn as sn\n",
        "import pandas as pd\n",
        "import matplotlib.pyplot as plt\n",
        "\n",
        "from keras.layers import Dense, Input, Bidirectional, GRU\n",
        "from keras.layers import Embedding\n",
        "from tensorflow.keras.preprocessing.sequence import pad_sequences\n",
        "from keras.layers import GlobalMaxPooling1D, GlobalAveragePooling1D, concatenate, SpatialDropout1D\n",
        "from keras.models import Model\n",
        "from keras import backend as K\n",
        "from keras.utils import to_categorical\n",
        "from sklearn.metrics import f1_score, confusion_matrix, accuracy_score\n",
        "from keras.optimizers import Adam\n",
        "from sklearn.model_selection import train_test_split, StratifiedShuffleSplit\n",
        "\n",
        "from pyvi.ViTokenizer import ViTokenizer\n",
        "\n",
        "def pre_process_features(X, y, tokenized=True, lowercased=True):\n",
        "    processed_X = []\n",
        "    for text in X:\n",
        "        if lowercased:\n",
        "            text = text.lower()\n",
        "        if tokenized:\n",
        "            text = ViTokenizer.tokenize(text)\n",
        "        processed_X.append(text)\n",
        "    return processed_X, y\n",
        "\n",
        "train_X, train_y = pre_process_features(X_train, y_train, tokenized=True, lowercased = True)\n",
        "dev_X, dev_y = pre_process_features(X_dev, y_dev, tokenized=True, lowercased = True)\n",
        "test_X, test_y = pre_process_features(X_test, y_test, tokenized=True, lowercased = True)\n",
        "\n",
        "EMBEDDING_FILE = '/content/drive/MyDrive/vihsd/cc.vi.300.vec'\n",
        "MODEL_FILE = '/content/drive/MyDrive/vihsd/model/GRU_model_v4.h5'\n",
        "\n",
        "def make_featues(X, y, tokenizer, is_one_hot_label=True):\n",
        "    X = tokenizer.texts_to_sequences(X)\n",
        "    X = sequence.pad_sequences(X, maxlen=sequence_length)\n",
        "    if is_one_hot_label:\n",
        "        y = to_categorical(y, num_classes=3)\n",
        "\n",
        "    return X, y\n",
        "\n",
        "vocabulary_size = 10000\n",
        "sequence_length = 100\n",
        "\n",
        "embedding_dim = 300\n",
        "batch_size = 256\n",
        "epochs = 40\n",
        "drop = 0.5\n",
        "\n",
        "embeddings_index = {}\n",
        "with open(EMBEDDING_FILE, encoding='utf8') as f:\n",
        "    for line in f:\n",
        "        values = line.rstrip().rsplit(' ')\n",
        "        word = values[0]\n",
        "        coefs = np.asarray(values[1:], dtype='float32')\n",
        "        embeddings_index[word] = coefs\n",
        "\n",
        "tokenizer = text.Tokenizer(lower=False, filters='!\"#$%&()*+,-./:;<=>?@[\\\\]^`{|}~\\t\\n')\n",
        "tokenizer.fit_on_texts(train_X)\n",
        "with open('/content/drive/MyDrive/vihsd/tokenizer.pickle'\n",
        ", 'wb') as handle:\n",
        "    pickle.dump(tokenizer, handle, protocol=pickle.HIGHEST_PROTOCOL)\n",
        "\n",
        "# --------------LOAD WORD EMBEDDING-------------------------\n",
        "word_index = tokenizer.word_index\n",
        "# num_words = min(vocabulary_size, len(word_index) + 1)\n",
        "num_words = len(word_index) + 1\n",
        "embedding_matrix = np.zeros((num_words, embedding_dim))\n",
        "\n",
        "for word, i in word_index.items():\n",
        "    if i >= vocabulary_size:\n",
        "        continue\n",
        "\n",
        "    embedding_vector = embeddings_index.get(word)\n",
        "    if embedding_vector is not None:\n",
        "        embedding_matrix[i] = embedding_vector\n",
        "\n",
        "train_X, train_y = make_featues(train_X, train_y, tokenizer)\n",
        "dev_X, dev_y = make_featues(dev_X, dev_y, tokenizer)\n",
        "test_X, test_y = make_featues(test_X, test_y, tokenizer, is_one_hot_label=False)\n",
        "\n",
        "input = Input(shape=(sequence_length,))\n",
        "x = Embedding(num_words, embedding_dim, weights=[embedding_matrix])(input)\n",
        "x = SpatialDropout1D(0.2)(x)\n",
        "x = Bidirectional(GRU(80, return_sequences=True))(x)\n",
        "avg_pool = GlobalAveragePooling1D()(x)\n",
        "max_pool = GlobalMaxPooling1D()(x)\n",
        "conc = concatenate([avg_pool, max_pool])\n",
        "output = Dense(3, activation=\"softmax\")(conc)\n",
        "\n",
        "# this creates a model that includes\n",
        "model = Model(inputs=input, outputs=output)\n",
        "\n",
        "model.summary()\n",
        "\n",
        "# checkpoint = ModelCheckpoint('weights.{epoch:03d}-{val_acc:.4f}.hdf5', monitor='val_acc', verbose=1, save_best_only=True, mode='auto')\n",
        "adam = Adam(lr=1e-4, beta_1=0.9, beta_2=0.999, epsilon=1e-08, decay=0.0)\n",
        "\n",
        "model.compile(optimizer=adam, loss='categorical_crossentropy', metrics=['accuracy'])\n",
        "\n",
        "model.fit(train_X, train_y, batch_size=batch_size, epochs=epochs, verbose=1, validation_data=(dev_X, dev_y))\n",
        "model.save(MODEL_FILE)\n",
        "\n",
        "prediction = model.predict(test_X, batch_size=batch_size, verbose=0)\n",
        "y_pred = prediction.argmax(axis=-1)\n",
        "\n",
        "cf2 = confusion_matrix(test_y, y_pred)\n",
        "print(cf2)\n",
        "\n",
        "evaluation = f1_score(test_y, y_pred, average='micro')\n",
        "\n",
        "print(\"F1 - micro: \" + str(evaluation))\n",
        "\n",
        "evaluation = f1_score(test_y, y_pred, average='macro')\n",
        "print(\"F1 - macro: \" + str(evaluation))\n",
        "\n",
        "evaluation = accuracy_score(test_y, y_pred)\n",
        "print(\"Accuracy: \" + str(evaluation))\n",
        "\n",
        "df_cm2 = pd.DataFrame(cf2, index = [\"clean\",\"offensive\",\"hate\"],\n",
        "                  columns = [\"clean\",\"offensive\",\"hate\"])\n",
        "plt.clf()\n",
        "sn.heatmap(df_cm2, annot=True, cmap=\"Greys\",fmt='g', cbar=True, annot_kws={\"size\": 28})"
      ]
    }
  ],
  "metadata": {
    "accelerator": "GPU",
    "colab": {
      "collapsed_sections": [
        "M81n5YJfXhi3"
      ],
      "machine_shape": "hm",
      "name": "ViHSD DNN.ipynb",
      "provenance": []
    },
    "kernelspec": {
      "display_name": "Python 3",
      "language": "python",
      "name": "python3"
    },
    "language_info": {
      "codemirror_mode": {
        "name": "ipython",
        "version": 3
      },
      "file_extension": ".py",
      "mimetype": "text/x-python",
      "name": "python",
      "nbconvert_exporter": "python",
      "pygments_lexer": "ipython3",
      "version": "3.7.7"
    }
  },
  "nbformat": 4,
  "nbformat_minor": 0
}